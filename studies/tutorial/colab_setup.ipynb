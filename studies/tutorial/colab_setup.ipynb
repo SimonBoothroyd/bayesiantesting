
!wget https://repo.anaconda.com/miniconda/Miniconda3-latest-Linux-x86_64.sh 
!chmod -x ./Miniconda3-latest-Linux-x86_64.sh 
!bash ./Miniconda3-latest-Linux-x86_64.sh -b -f -p /usr/local

!wget https://raw.githubusercontent.com/openforcefield/openff-evaluator/master/devtools/conda-envs/test_env.yaml
!sed -i -z 's/python\n/python ==3.6.9\n/g' test_env.yaml
!. /usr/local/etc/profile.d/conda.sh && conda env update --name base --file test_env.yaml && conda install --yes -c conda-forge -c omnia forcebalance && conda list

!pip install git+https://github.com/openforcefield/openff-evaluator.git@master
!wget https://raw.githubusercontent.com/openforcefield/openforcefields/7300a486581feff508b9401241443f941924783f/openforcefields/offxml/openff-1.0.0.offxml

import os
import sys

sys.path.append('/usr/local/lib/python3.6/site-packages/')
os.environ["CUDA_VISIBLE_DEVICES"] = "0"
